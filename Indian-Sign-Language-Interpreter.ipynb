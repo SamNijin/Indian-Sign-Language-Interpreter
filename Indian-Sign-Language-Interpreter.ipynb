{
 "cells": [
  {
   "cell_type": "markdown",
   "id": "206c47a0-50f8-4ec6-9bf5-b7fcc260a822",
   "metadata": {},
   "source": [
    "#"
   ]
  },
  {
   "cell_type": "markdown",
   "id": "ce1a309f-0b6b-4fb5-b183-4cf0b09992b0",
   "metadata": {},
   "source": [
    "<center> <h1 style='font-size:45px; text-align:center; font-weight:900'>Indian Sign Language Classification using Transfer Learning</h1> </center>"
   ]
  },
  {
   "cell_type": "markdown",
   "id": "b4508ff4-7a34-4390-8e9d-42b00c167ca4",
   "metadata": {},
   "source": [
    "#"
   ]
  },
  {
   "cell_type": "markdown",
   "id": "2cd42a37-f941-4a2a-b9ec-01a9f72ae15b",
   "metadata": {},
   "source": [
    "![Indian Sign Language](https://vajiramandravi.s3.us-east-1.amazonaws.com/media/2019/2/28/16/52/7/isl.jpg)"
   ]
  },
  {
   "cell_type": "markdown",
   "id": "62bc69f1-e3ff-4de3-b89c-9f33333f81d4",
   "metadata": {},
   "source": [
    "#####"
   ]
  },
  {
   "cell_type": "markdown",
   "id": "60092d85-a2e4-4ddd-b3a5-b8bfa7431c33",
   "metadata": {},
   "source": [
    "# Introduction\n",
    "\n",
    "* The basic requirement of the peoples are the communication which allows everyone to share their thoughts and emotion with some other persons, without communication we all will be stressed out and it is really a tough situation to live.\n",
    "* There exists two main languages as **Speech Language** and **Sign Language**. The speech language is for the peoples who can talk and hear the voices around them whereas the sign language is for the people who can't hear or speak.\n",
    "* Due to this reason there will be a communication barrier between the sign language peoples and the normal leanguage people as the learning of sign language is really a hard work to do with.\n",
    "* The main objective of this project is to provide an efficient way to build a model which is to be used to interprets the sign language into speech language.\n",
    "* This model is build on the **Xception architecture** which is better than the VGG-16, ResNet-152, Inception V3 models."
   ]
  },
  {
   "cell_type": "markdown",
   "id": "5c0425bb-7831-4c2e-af0b-5c36bcff5b51",
   "metadata": {},
   "source": [
    "# Objective\n",
    "\n",
    "* To train CNN model which is capable of classifying the alpha numeric hand gestures of Indian Sign Language.\n",
    "* To improve the accuracy by using transfer learning technique."
   ]
  },
  {
   "cell_type": "markdown",
   "id": "8b402576-e33b-4520-9f70-d24e7a47e302",
   "metadata": {},
   "source": [
    "**Sign language is one of the toughest language compared to the speech language so it isnot possible to learn this, so to overcome this situation a modern technical solution is required this problem.   And this application is required for:**\n",
    "\n",
    "* **Promotion:** This interpreter equal access to information, services, and opportunities to the sign language people\n",
    "\n",
    "* **Better Environment:** Fosters inclusivity and diversity for the sign language people so that they wont hesitate to comminicate with the other people.\n",
    "\n",
    "* **Relationships:** This interpreter Strengthens relationships between deaf and hearing individuals and communities.\n",
    "\n",
    "As the world continues to recognize the importance of sign language, it is essential to continue promoting and supporting its use and growth. By utilizing this application, we can create a more inclusive and accessible society for all the people including the sign language and the speech language people."
   ]
  },
  {
   "cell_type": "markdown",
   "id": "7142e1b4-5457-42fd-9998-77a5f92cd137",
   "metadata": {},
   "source": [
    "### Importing the required libraries"
   ]
  },
  {
   "cell_type": "code",
   "execution_count": 1,
   "id": "d5f9a0d7-7046-4691-b8bf-ebf5f1aa32e4",
   "metadata": {},
   "outputs": [],
   "source": [
    "from tensorflow.keras.layers import Flatten, Dense, BatchNormalization, Dropout\n",
    "from tensorflow.keras.preprocessing.image import ImageDataGenerator\n",
    "from sklearn.metrics import classification_report, confusion_matrix\n",
    "from sklearn.model_selection import train_test_split\n",
    "from tensorflow.keras.applications import Xception\n",
    "from tensorflow.keras.metrics import Precision\n",
    "from tensorflow.keras.optimizers import Adam\n",
    "from tensorflow.keras import Sequential\n",
    "from matplotlib import pyplot as plt\n",
    "import tensorflow as tf\n",
    "import seaborn as sns\n",
    "import pandas as pd\n",
    "import numpy as np\n",
    "import cv2 as cv\n",
    "import os"
   ]
  },
  {
   "cell_type": "markdown",
   "id": "f0071903-63f6-43c6-9873-a22c76040e20",
   "metadata": {},
   "source": [
    "### Enabling GPU for higher performance"
   ]
  },
  {
   "cell_type": "code",
   "execution_count": 2,
   "id": "5ad338ef-b862-4819-9786-9777f0312e1f",
   "metadata": {},
   "outputs": [
    {
     "name": "stdout",
     "output_type": "stream",
     "text": [
      "1 Physical GPUs, 1 Logical GPUs\n"
     ]
    }
   ],
   "source": [
    "gpus = tf.config.list_physical_devices('GPU')\n",
    "if gpus:\n",
    "  try:\n",
    "    # Currently, memory growth needs to be the same across GPUs\n",
    "    for gpu in gpus:\n",
    "      tf.config.experimental.set_memory_growth(gpu, True)\n",
    "    logical_gpus = tf.config.list_logical_devices('GPU')\n",
    "    print(len(gpus), \"Physical GPUs,\", len(logical_gpus), \"Logical GPUs\")\n",
    "  except RuntimeError as e:\n",
    "    # Memory growth must be set before GPUs have been initialized\n",
    "    print(e)"
   ]
  },
  {
   "cell_type": "markdown",
   "id": "02a66011-2275-44ee-9d77-b39d083f4259",
   "metadata": {},
   "source": [
    "### Initializing the common variables and functions"
   ]
  },
  {
   "cell_type": "code",
   "execution_count": 3,
   "id": "044726cd-c6f3-41e5-bc91-2b1a02c69380",
   "metadata": {},
   "outputs": [],
   "source": [
    "# Used to resize the image to 224 x 224 size (resolution)\n",
    "\n",
    "def read_image(path, images, labels, filenames):\n",
    "    \n",
    "    for root, dirs, files in os.walk(path):\n",
    "\n",
    "        for name in dirs:\n",
    "            \n",
    "            direct = os.path.join(path, name)\n",
    "            \n",
    "            for filename in os.listdir(direct):\n",
    "                \n",
    "                img = cv.imread(os.path.join(path + \"/\" + name, filename))\n",
    "                labels.append(name)\n",
    "                img = cv.resize(img, Image_Size)\n",
    "                images.append(img)\n",
    "                filenames.append(name + '/' + filename)"
   ]
  },
  {
   "cell_type": "code",
   "execution_count": 4,
   "id": "46ddb245-03bb-4fa5-b70e-1dce8f412f92",
   "metadata": {},
   "outputs": [],
   "source": [
    "# Function to create dataframe from the filenames and labels\n",
    "\n",
    "def create_dataframe(filenames, labels):\n",
    "    \n",
    "    df = pd.DataFrame({\n",
    "        \n",
    "    'filename' : filenames,\n",
    "    'category' : labels\n",
    "\n",
    "    })\n",
    "    \n",
    "    return df"
   ]
  },
  {
   "cell_type": "code",
   "execution_count": 5,
   "id": "b865324b-8152-4754-b7c9-65356268de4f",
   "metadata": {},
   "outputs": [],
   "source": [
    "# Defining the common variables\n",
    "\n",
    "Image_Width=250\n",
    "Image_Height=250\n",
    "Image_Size=(Image_Width,Image_Height)\n",
    "Image_Channels=3\n",
    "batch_size = 32"
   ]
  },
  {
   "cell_type": "code",
   "execution_count": 6,
   "id": "53fe6057-2bb2-4d1e-af7b-9c4833af267c",
   "metadata": {},
   "outputs": [],
   "source": [
    "# Initializing train variables\n",
    "\n",
    "filenames = []\n",
    "images = []\n",
    "labels = []\n",
    "path = './original_images/'\n",
    "\n",
    "# Invoking read_image() in order to read the images from the path and to store in the above initialized array\n",
    "\n",
    "read_image(path=path, filenames=filenames, images=images, labels=labels)"
   ]
  },
  {
   "cell_type": "code",
   "execution_count": 7,
   "id": "55b2e96b-42db-4416-aa55-7c72c8d58c62",
   "metadata": {},
   "outputs": [
    {
     "data": {
      "text/html": [
       "<div>\n",
       "<style scoped>\n",
       "    .dataframe tbody tr th:only-of-type {\n",
       "        vertical-align: middle;\n",
       "    }\n",
       "\n",
       "    .dataframe tbody tr th {\n",
       "        vertical-align: top;\n",
       "    }\n",
       "\n",
       "    .dataframe thead th {\n",
       "        text-align: right;\n",
       "    }\n",
       "</style>\n",
       "<table border=\"1\" class=\"dataframe\">\n",
       "  <thead>\n",
       "    <tr style=\"text-align: right;\">\n",
       "      <th></th>\n",
       "      <th>filename</th>\n",
       "      <th>category</th>\n",
       "    </tr>\n",
       "  </thead>\n",
       "  <tbody>\n",
       "    <tr>\n",
       "      <th>0</th>\n",
       "      <td>0/1.jpg</td>\n",
       "      <td>0</td>\n",
       "    </tr>\n",
       "    <tr>\n",
       "      <th>1</th>\n",
       "      <td>0/10.jpg</td>\n",
       "      <td>0</td>\n",
       "    </tr>\n",
       "    <tr>\n",
       "      <th>2</th>\n",
       "      <td>0/100.jpg</td>\n",
       "      <td>0</td>\n",
       "    </tr>\n",
       "    <tr>\n",
       "      <th>3</th>\n",
       "      <td>0/1000.jpg</td>\n",
       "      <td>0</td>\n",
       "    </tr>\n",
       "    <tr>\n",
       "      <th>4</th>\n",
       "      <td>0/101.jpg</td>\n",
       "      <td>0</td>\n",
       "    </tr>\n",
       "    <tr>\n",
       "      <th>...</th>\n",
       "      <td>...</td>\n",
       "      <td>...</td>\n",
       "    </tr>\n",
       "    <tr>\n",
       "      <th>35995</th>\n",
       "      <td>Z/995.jpg</td>\n",
       "      <td>Z</td>\n",
       "    </tr>\n",
       "    <tr>\n",
       "      <th>35996</th>\n",
       "      <td>Z/996.jpg</td>\n",
       "      <td>Z</td>\n",
       "    </tr>\n",
       "    <tr>\n",
       "      <th>35997</th>\n",
       "      <td>Z/997.jpg</td>\n",
       "      <td>Z</td>\n",
       "    </tr>\n",
       "    <tr>\n",
       "      <th>35998</th>\n",
       "      <td>Z/998.jpg</td>\n",
       "      <td>Z</td>\n",
       "    </tr>\n",
       "    <tr>\n",
       "      <th>35999</th>\n",
       "      <td>Z/999.jpg</td>\n",
       "      <td>Z</td>\n",
       "    </tr>\n",
       "  </tbody>\n",
       "</table>\n",
       "<p>36000 rows × 2 columns</p>\n",
       "</div>"
      ],
      "text/plain": [
       "         filename category\n",
       "0         0/1.jpg        0\n",
       "1        0/10.jpg        0\n",
       "2       0/100.jpg        0\n",
       "3      0/1000.jpg        0\n",
       "4       0/101.jpg        0\n",
       "...           ...      ...\n",
       "35995   Z/995.jpg        Z\n",
       "35996   Z/996.jpg        Z\n",
       "35997   Z/997.jpg        Z\n",
       "35998   Z/998.jpg        Z\n",
       "35999   Z/999.jpg        Z\n",
       "\n",
       "[36000 rows x 2 columns]"
      ]
     },
     "execution_count": 7,
     "metadata": {},
     "output_type": "execute_result"
    }
   ],
   "source": [
    "# Train dataframe made from create_dataframe()\n",
    "\n",
    "df = create_dataframe(filenames=filenames, labels=labels)\n",
    "df"
   ]
  },
  {
   "cell_type": "markdown",
   "id": "39dacae1-3b19-4e6d-9d4f-3b580c156817",
   "metadata": {},
   "source": [
    "### Spliting the dataset for train and test"
   ]
  },
  {
   "cell_type": "code",
   "execution_count": 8,
   "id": "de6dfeac-ece0-44cb-bdfb-15ca2c99164d",
   "metadata": {},
   "outputs": [],
   "source": [
    "# Spliting the dataset into train_df and test_df with test size of 0.1\n",
    "\n",
    "train_df, test_df =  train_test_split(df, test_size=0.1, random_state=53, stratify=df['category'])"
   ]
  },
  {
   "cell_type": "code",
   "execution_count": 9,
   "id": "7d0c48b1-7115-417c-8d8a-d51868479a95",
   "metadata": {},
   "outputs": [
    {
     "name": "stdout",
     "output_type": "stream",
     "text": [
      "Found 32400 validated image filenames belonging to 36 classes.\n"
     ]
    }
   ],
   "source": [
    "#preprocessing train data\n",
    "\n",
    "train_datag=ImageDataGenerator(rescale=1./ 255, # converting the pixels of image between o's and 1's\n",
    "                              horizontal_flip = True, # flipping the image horizontally\n",
    "                               vertical_flip = True, # flipping the image vertically\n",
    "                               rotation_range = 25, # rotating the image fro 25 degree\n",
    "                              )\n",
    "\n",
    "# Getting train images using flow_from_datafram()\n",
    "\n",
    "train_dataset=train_datag.flow_from_dataframe(dataframe=train_df, # dataframe name\n",
    "                                              directory=path, # path\n",
    "                                              x_col=\"filename\", # x_col value\n",
    "                                              y_col=\"category\", # y_col_value\n",
    "                                              color_mode='rgb', # color of the image used 'rgb' as the dataset contain rgb image\n",
    "                                              target_size=Image_Size, # setting the size of the image\n",
    "                                              batch_size=32, # mini-batch gradient descent (takes 32 images in one go)\n",
    "                                              class_mode='categorical' # categorical is chosen as it is the classification problem\n",
    "                                             )"
   ]
  },
  {
   "cell_type": "code",
   "execution_count": 10,
   "id": "6e4fb910-a538-4972-827d-cfa9a21b5495",
   "metadata": {},
   "outputs": [
    {
     "name": "stdout",
     "output_type": "stream",
     "text": [
      "Found 3600 non-validated image filenames belonging to 36 classes.\n"
     ]
    }
   ],
   "source": [
    "# pre-processing test data\n",
    "\n",
    "test_datag=ImageDataGenerator(rescale=1./255) # converting the pixels of image between o's and 1's\n",
    "\n",
    "# Getting test images using flow_from_datafram()\n",
    "\n",
    "test_dataset=test_datag.flow_from_dataframe(dataframe=test_df, # dataframe name\n",
    "                                            directory=path, # path\n",
    "                                            x_col=\"filename\", # x_col value\n",
    "                                            y_col=\"category\", # y_col value\n",
    "                                            color_mode='rgb', # color of the image used 'rgb' as the dataset contain rgb image\n",
    "                                            target_size=Image_Size, # setting the size of the image\n",
    "                                            batch_size=32, # mini-batch gradient descent (takes 32 images in one go)\n",
    "                                            \n",
    "                                            # while generating the test_dataset the machine won't validate names, due to some non-acceptable names someof the images are not read by the machine so to avoid that this param is used\n",
    "                                            validate_filenames=False, # whether to validate names or not \n",
    "                                            \n",
    "                                            shuffle=False, # made shuffle to false in order to make sure that the test dataset isn't shuffled\n",
    "                                            class_mode='categorical', # categorical is chosen as it is the classification problem\n",
    "                                           )"
   ]
  },
  {
   "cell_type": "code",
   "execution_count": 11,
   "id": "0c01917e-16ed-4d39-987a-3ef8fb6741e6",
   "metadata": {},
   "outputs": [
    {
     "data": {
      "text/plain": [
       "{'0': 0,\n",
       " '1': 1,\n",
       " '2': 2,\n",
       " '3': 3,\n",
       " '4': 4,\n",
       " '5': 5,\n",
       " '6': 6,\n",
       " '7': 7,\n",
       " '8': 8,\n",
       " '9': 9,\n",
       " 'A': 10,\n",
       " 'B': 11,\n",
       " 'C': 12,\n",
       " 'D': 13,\n",
       " 'E': 14,\n",
       " 'F': 15,\n",
       " 'G': 16,\n",
       " 'H': 17,\n",
       " 'I': 18,\n",
       " 'J': 19,\n",
       " 'K': 20,\n",
       " 'L': 21,\n",
       " 'M': 22,\n",
       " 'N': 23,\n",
       " 'O': 24,\n",
       " 'P': 25,\n",
       " 'Q': 26,\n",
       " 'R': 27,\n",
       " 'S': 28,\n",
       " 'T': 29,\n",
       " 'U': 30,\n",
       " 'V': 31,\n",
       " 'W': 32,\n",
       " 'X': 33,\n",
       " 'Y': 34,\n",
       " 'Z': 35}"
      ]
     },
     "execution_count": 11,
     "metadata": {},
     "output_type": "execute_result"
    }
   ],
   "source": [
    "train_dataset.class_indices #gives the key for the target values"
   ]
  },
  {
   "cell_type": "markdown",
   "id": "1238f60e-f9f0-48f9-ad3f-f77de18d6146",
   "metadata": {},
   "source": [
    "### **Model building**"
   ]
  },
  {
   "cell_type": "code",
   "execution_count": 12,
   "id": "6dccd603-01ac-47b8-a0b9-eec346e299c2",
   "metadata": {},
   "outputs": [
    {
     "name": "stdout",
     "output_type": "stream",
     "text": [
      "Model: \"sequential\"\n",
      "_________________________________________________________________\n",
      " Layer (type)                Output Shape              Param #   \n",
      "=================================================================\n",
      " xception (Functional)       (None, 8, 8, 2048)        20861480  \n",
      "                                                                 \n",
      " flatten (Flatten)           (None, 131072)            0         \n",
      "                                                                 \n",
      " dense (Dense)               (None, 512)               67109376  \n",
      "                                                                 \n",
      " batch_normalization_4 (Batc  (None, 512)              2048      \n",
      " hNormalization)                                                 \n",
      "                                                                 \n",
      " dense_1 (Dense)             (None, 256)               131328    \n",
      "                                                                 \n",
      " batch_normalization_5 (Batc  (None, 256)              1024      \n",
      " hNormalization)                                                 \n",
      "                                                                 \n",
      " dense_2 (Dense)             (None, 128)               32896     \n",
      "                                                                 \n",
      " batch_normalization_6 (Batc  (None, 128)              512       \n",
      " hNormalization)                                                 \n",
      "                                                                 \n",
      " dense_3 (Dense)             (None, 36)                4644      \n",
      "                                                                 \n",
      "=================================================================\n",
      "Total params: 88,143,308\n",
      "Trainable params: 67,280,036\n",
      "Non-trainable params: 20,863,272\n",
      "_________________________________________________________________\n"
     ]
    }
   ],
   "source": [
    "# getting the Xception model and making the trainable false,\n",
    "# so that such a big model wont get trained in our machine, and also this huge model can't be trained in our machine\n",
    "\n",
    "# This is called transfer learning, this uses the layers of the Xception model and the extraction is taken place based on that\n",
    "\n",
    "base = Xception(\n",
    "    include_top=False,\n",
    "    weights=\"imagenet\",\n",
    "    input_shape=(250,250,3),\n",
    ")\n",
    "\n",
    "# Making the layers to get trained as false\n",
    "\n",
    "for layer in base.layers:\n",
    "    layer.trainable = False\n",
    "\n",
    "# Model building\n",
    "    \n",
    "model = Sequential()\n",
    "\n",
    "# Base model (Xception Model)\n",
    "model.add(base)\n",
    "\n",
    "# flattens the layers (making it into 1-D format)\n",
    "model.add(Flatten())\n",
    "\n",
    "# Fully connected layers\n",
    "\n",
    "\n",
    "# Layer 1\n",
    "model.add(Dense(units=512, activation='relu'))\n",
    "model.add(BatchNormalization())\n",
    "\n",
    "# Layer 2\n",
    "model.add(Dense(units=256, activation='relu'))\n",
    "model.add(BatchNormalization())\n",
    "\n",
    "# Layer 3\n",
    "model.add(Dense(units=128, activation='relu'))\n",
    "model.add(BatchNormalization())\n",
    "\n",
    "# Output layer\n",
    "model.add(Dense(units=36, activation='softmax'))\n",
    "\n",
    "# Printing summary of the model\n",
    "model.summary()"
   ]
  },
  {
   "cell_type": "code",
   "execution_count": 13,
   "id": "64958918-a6cb-48f6-94b3-3f6016f393e8",
   "metadata": {},
   "outputs": [],
   "source": [
    "# defining the optimizer\n",
    "\n",
    "adam_optimizer = Adam(learning_rate = 1e-4)\n",
    "\n",
    "# compiling the model\n",
    "\n",
    "model.compile(loss=\"CategoricalCrossentropy\",optimizer=adam_optimizer, metrics=[\"accuracy\", Precision()])"
   ]
  },
  {
   "cell_type": "markdown",
   "id": "c22d10eb-4eef-4e19-9335-a6d54f358675",
   "metadata": {},
   "source": [
    "### Training"
   ]
  },
  {
   "cell_type": "code",
   "execution_count": 14,
   "id": "245ea699-7b32-4ee0-b23c-8b91039569d9",
   "metadata": {},
   "outputs": [
    {
     "name": "stdout",
     "output_type": "stream",
     "text": [
      "Epoch 1/25\n",
      "1013/1013 [==============================] - 284s 271ms/step - loss: 0.7981 - accuracy: 0.8189 - precision: 0.9695 - val_loss: 0.1611 - val_accuracy: 0.9683 - val_precision: 0.9832\n",
      "Epoch 2/25\n",
      "1013/1013 [==============================] - 271s 268ms/step - loss: 0.1639 - accuracy: 0.9699 - precision: 0.9847 - val_loss: 0.1048 - val_accuracy: 0.9806 - val_precision: 0.9886\n",
      "Epoch 3/25\n",
      "1013/1013 [==============================] - 267s 263ms/step - loss: 0.1024 - accuracy: 0.9799 - precision: 0.9866 - val_loss: 0.0584 - val_accuracy: 0.9892 - val_precision: 0.9919\n",
      "Epoch 4/25\n",
      "1013/1013 [==============================] - 266s 262ms/step - loss: 0.0749 - accuracy: 0.9841 - precision: 0.9889 - val_loss: 0.0544 - val_accuracy: 0.9869 - val_precision: 0.9896\n",
      "Epoch 5/25\n",
      "1013/1013 [==============================] - 265s 261ms/step - loss: 0.0643 - accuracy: 0.9857 - precision: 0.9896 - val_loss: 0.0628 - val_accuracy: 0.9839 - val_precision: 0.9871\n",
      "Epoch 6/25\n",
      "1013/1013 [==============================] - 267s 263ms/step - loss: 0.0594 - accuracy: 0.9862 - precision: 0.9897 - val_loss: 0.0705 - val_accuracy: 0.9858 - val_precision: 0.9891\n",
      "Epoch 7/25\n",
      "1013/1013 [==============================] - 265s 262ms/step - loss: 0.0489 - accuracy: 0.9881 - precision: 0.9906 - val_loss: 0.0645 - val_accuracy: 0.9828 - val_precision: 0.9849\n",
      "Epoch 8/25\n",
      "1013/1013 [==============================] - 265s 261ms/step - loss: 0.0474 - accuracy: 0.9885 - precision: 0.9905 - val_loss: 0.0259 - val_accuracy: 0.9922 - val_precision: 0.9936\n",
      "Epoch 9/25\n",
      "1013/1013 [==============================] - 264s 261ms/step - loss: 0.0413 - accuracy: 0.9891 - precision: 0.9919 - val_loss: 0.0407 - val_accuracy: 0.9906 - val_precision: 0.9922\n",
      "Epoch 10/25\n",
      "1013/1013 [==============================] - 267s 263ms/step - loss: 0.0357 - accuracy: 0.9906 - precision: 0.9924 - val_loss: 0.0242 - val_accuracy: 0.9922 - val_precision: 0.9928\n",
      "Epoch 11/25\n",
      "1013/1013 [==============================] - 268s 264ms/step - loss: 0.0338 - accuracy: 0.9910 - precision: 0.9928 - val_loss: 0.0265 - val_accuracy: 0.9925 - val_precision: 0.9944\n",
      "Epoch 12/25\n",
      "1013/1013 [==============================] - 264s 260ms/step - loss: 0.0305 - accuracy: 0.9923 - precision: 0.9938 - val_loss: 0.0295 - val_accuracy: 0.9911 - val_precision: 0.9917\n",
      "Epoch 13/25\n",
      "1013/1013 [==============================] - 265s 262ms/step - loss: 0.0275 - accuracy: 0.9930 - precision: 0.9939 - val_loss: 0.0345 - val_accuracy: 0.9917 - val_precision: 0.9919\n",
      "Epoch 14/25\n",
      "1013/1013 [==============================] - 267s 264ms/step - loss: 0.0288 - accuracy: 0.9915 - precision: 0.9931 - val_loss: 0.0198 - val_accuracy: 0.9947 - val_precision: 0.9955\n",
      "Epoch 15/25\n",
      "1013/1013 [==============================] - 267s 263ms/step - loss: 0.0227 - accuracy: 0.9943 - precision: 0.9949 - val_loss: 0.0286 - val_accuracy: 0.9931 - val_precision: 0.9930\n",
      "Epoch 16/25\n",
      "1013/1013 [==============================] - 267s 263ms/step - loss: 0.0221 - accuracy: 0.9939 - precision: 0.9947 - val_loss: 0.0237 - val_accuracy: 0.9908 - val_precision: 0.9919\n",
      "Epoch 17/25\n",
      "1013/1013 [==============================] - 265s 261ms/step - loss: 0.0234 - accuracy: 0.9935 - precision: 0.9946 - val_loss: 0.0107 - val_accuracy: 0.9978 - val_precision: 0.9978\n",
      "Epoch 18/25\n",
      "1013/1013 [==============================] - 267s 263ms/step - loss: 0.0206 - accuracy: 0.9944 - precision: 0.9951 - val_loss: 0.0090 - val_accuracy: 0.9972 - val_precision: 0.9978\n",
      "Epoch 19/25\n",
      "1013/1013 [==============================] - 266s 262ms/step - loss: 0.0176 - accuracy: 0.9949 - precision: 0.9956 - val_loss: 0.0162 - val_accuracy: 0.9953 - val_precision: 0.9956\n",
      "Epoch 20/25\n",
      "1013/1013 [==============================] - 263s 260ms/step - loss: 0.0170 - accuracy: 0.9949 - precision: 0.9957 - val_loss: 0.0142 - val_accuracy: 0.9958 - val_precision: 0.9958\n",
      "Epoch 21/25\n",
      "1013/1013 [==============================] - 269s 265ms/step - loss: 0.0199 - accuracy: 0.9940 - precision: 0.9946 - val_loss: 0.0242 - val_accuracy: 0.9931 - val_precision: 0.9939\n",
      "Epoch 22/25\n",
      "1013/1013 [==============================] - 270s 267ms/step - loss: 0.0161 - accuracy: 0.9955 - precision: 0.9962 - val_loss: 0.0155 - val_accuracy: 0.9939 - val_precision: 0.9950\n",
      "Epoch 23/25\n",
      "1013/1013 [==============================] - 265s 261ms/step - loss: 0.0162 - accuracy: 0.9954 - precision: 0.9961 - val_loss: 0.0173 - val_accuracy: 0.9939 - val_precision: 0.9944\n",
      "Epoch 24/25\n",
      "1013/1013 [==============================] - 263s 259ms/step - loss: 0.0160 - accuracy: 0.9952 - precision: 0.9958 - val_loss: 0.0131 - val_accuracy: 0.9969 - val_precision: 0.9972\n",
      "Epoch 25/25\n",
      "1013/1013 [==============================] - 263s 260ms/step - loss: 0.0146 - accuracy: 0.9958 - precision: 0.9963 - val_loss: 0.0064 - val_accuracy: 0.9989 - val_precision: 0.9992\n"
     ]
    }
   ],
   "source": [
    "# training the model\n",
    "\n",
    "history = model.fit(train_dataset, epochs=25, validation_data=test_dataset)"
   ]
  },
  {
   "cell_type": "markdown",
   "id": "bf45f860-cbf8-4a22-948d-52702ce763ba",
   "metadata": {},
   "source": [
    "<h1 style='text-align:center; font-weight:500; text-size:30px'>Model Accuracy vs Loss</h1>"
   ]
  },
  {
   "cell_type": "code",
   "execution_count": 15,
   "id": "a625ddb0-d4c5-4122-afa2-efb217092bbf",
   "metadata": {},
   "outputs": [
    {
     "data": {
      "image/png": "[encoded data removed]",
      "text/plain": [
       "<Figure size 800x800 with 1 Axes>"
      ]
     },
     "metadata": {},
     "output_type": "display_data"
    }
   ],
   "source": [
    "# Defining the size of the figure\n",
    "plt.figure(figsize=(8,8))\n",
    "\n",
    "# Labels\n",
    "plt.xlabel('Number of Epochs')\n",
    "plt.ylabel('Probability Value')\n",
    "\n",
    "# Accuracy plot\n",
    "plt.plot(history.history['accuracy'])\n",
    "\n",
    "# Title\n",
    "plt.title('Accuracy VS Loss')\n",
    "\n",
    "# Loss plot\n",
    "plt.plot(history.history['loss'])\n",
    "\n",
    "# Making the legend\n",
    "plt.legend(['Accuracy', 'Loss'])\n",
    "\n",
    "# Displaying the entire plot\n",
    "plt.show()"
   ]
  },
  {
   "cell_type": "markdown",
   "id": "e2018bcc-eca8-4995-adbb-de35dccd4280",
   "metadata": {},
   "source": [
    "## Summary of the above plot\n",
    "* Around epochs 4 there is huge change of loss and accuracy.\n",
    "* After 5th epochs the accuracy and loss are likely to have a less diversion."
   ]
  },
  {
   "cell_type": "markdown",
   "id": "1524b9f9-72cb-4a86-9433-a836745b0515",
   "metadata": {},
   "source": [
    "### **Predicting**"
   ]
  },
  {
   "cell_type": "code",
   "execution_count": 16,
   "id": "75434c02-6143-4be2-9f72-aaf1a085a256",
   "metadata": {},
   "outputs": [
    {
     "name": "stdout",
     "output_type": "stream",
     "text": [
      "113/113 [==============================] - 17s 146ms/step\n"
     ]
    }
   ],
   "source": [
    "# predicting the model with test dataset\n",
    "\n",
    "test_pred=model.predict(test_dataset)"
   ]
  },
  {
   "cell_type": "code",
   "execution_count": 17,
   "id": "454f5300-655a-46fb-a16d-94ff92ebaa5f",
   "metadata": {},
   "outputs": [],
   "source": [
    "# getting the index of the highest value\n",
    "\n",
    "test_df[\"predict\"]=np.argmax(test_pred,axis=1)"
   ]
  },
  {
   "cell_type": "code",
   "execution_count": 18,
   "id": "1ebe716e-3f4a-4589-abec-9723bf636c6c",
   "metadata": {},
   "outputs": [],
   "source": [
    "# Assigning the class names for the keys in predict column of the test_df\n",
    "\n",
    "test_df[\"predict_c\"]=test_df[\"predict\"].map({0 : '0',\n",
    " 1 : '1',\n",
    " 2 : '2',\n",
    " 3 : '3',\n",
    " 4 : '4',\n",
    " 5 : '5',\n",
    " 6 : '6',\n",
    " 7 : '7',\n",
    " 8 : '8',\n",
    " 9 : '9',\n",
    " 10: 'A',\n",
    " 11: 'B',\n",
    " 12: 'C',\n",
    " 13: 'D',\n",
    " 14: 'E',\n",
    " 15: 'F',\n",
    " 16: 'G',\n",
    " 17: 'H',\n",
    " 18: 'I',\n",
    " 19: 'J',\n",
    " 20: 'K',\n",
    " 21: 'L',\n",
    " 22: 'M',\n",
    " 23: 'N',\n",
    " 24: 'O',\n",
    " 25: 'P',\n",
    " 26: 'Q',\n",
    " 27: 'R',\n",
    " 28: 'S',\n",
    " 29: 'T',\n",
    " 30: 'U',\n",
    " 31: 'V',\n",
    " 32: 'W',\n",
    " 33: 'X',\n",
    " 34: 'Y',\n",
    " 35: 'Z'})"
   ]
  },
  {
   "cell_type": "code",
   "execution_count": 19,
   "id": "7fc9b4b7-21ae-47cd-8a10-b7c95d96fee3",
   "metadata": {},
   "outputs": [
    {
     "data": {
      "text/html": [
       "<div>\n",
       "<style scoped>\n",
       "    .dataframe tbody tr th:only-of-type {\n",
       "        vertical-align: middle;\n",
       "    }\n",
       "\n",
       "    .dataframe tbody tr th {\n",
       "        vertical-align: top;\n",
       "    }\n",
       "\n",
       "    .dataframe thead th {\n",
       "        text-align: right;\n",
       "    }\n",
       "</style>\n",
       "<table border=\"1\" class=\"dataframe\">\n",
       "  <thead>\n",
       "    <tr style=\"text-align: right;\">\n",
       "      <th></th>\n",
       "      <th>filename</th>\n",
       "      <th>category</th>\n",
       "      <th>predict</th>\n",
       "      <th>predict_c</th>\n",
       "    </tr>\n",
       "  </thead>\n",
       "  <tbody>\n",
       "    <tr>\n",
       "      <th>32575</th>\n",
       "      <td>W/616.jpg</td>\n",
       "      <td>W</td>\n",
       "      <td>32</td>\n",
       "      <td>W</td>\n",
       "    </tr>\n",
       "    <tr>\n",
       "      <th>35860</th>\n",
       "      <td>Z/873.jpg</td>\n",
       "      <td>Z</td>\n",
       "      <td>35</td>\n",
       "      <td>Z</td>\n",
       "    </tr>\n",
       "    <tr>\n",
       "      <th>18152</th>\n",
       "      <td>I/235.jpg</td>\n",
       "      <td>I</td>\n",
       "      <td>18</td>\n",
       "      <td>I</td>\n",
       "    </tr>\n",
       "    <tr>\n",
       "      <th>19531</th>\n",
       "      <td>J/577.jpg</td>\n",
       "      <td>J</td>\n",
       "      <td>19</td>\n",
       "      <td>J</td>\n",
       "    </tr>\n",
       "    <tr>\n",
       "      <th>23472</th>\n",
       "      <td>N/523.jpg</td>\n",
       "      <td>N</td>\n",
       "      <td>23</td>\n",
       "      <td>N</td>\n",
       "    </tr>\n",
       "    <tr>\n",
       "      <th>...</th>\n",
       "      <td>...</td>\n",
       "      <td>...</td>\n",
       "      <td>...</td>\n",
       "      <td>...</td>\n",
       "    </tr>\n",
       "    <tr>\n",
       "      <th>19902</th>\n",
       "      <td>J/910.jpg</td>\n",
       "      <td>J</td>\n",
       "      <td>19</td>\n",
       "      <td>J</td>\n",
       "    </tr>\n",
       "    <tr>\n",
       "      <th>21086</th>\n",
       "      <td>L/176.jpg</td>\n",
       "      <td>L</td>\n",
       "      <td>21</td>\n",
       "      <td>L</td>\n",
       "    </tr>\n",
       "    <tr>\n",
       "      <th>19327</th>\n",
       "      <td>J/393.jpg</td>\n",
       "      <td>J</td>\n",
       "      <td>19</td>\n",
       "      <td>J</td>\n",
       "    </tr>\n",
       "    <tr>\n",
       "      <th>2881</th>\n",
       "      <td>2/892.jpg</td>\n",
       "      <td>2</td>\n",
       "      <td>2</td>\n",
       "      <td>2</td>\n",
       "    </tr>\n",
       "    <tr>\n",
       "      <th>31833</th>\n",
       "      <td>V/849.jpg</td>\n",
       "      <td>V</td>\n",
       "      <td>31</td>\n",
       "      <td>V</td>\n",
       "    </tr>\n",
       "  </tbody>\n",
       "</table>\n",
       "<p>3600 rows × 4 columns</p>\n",
       "</div>"
      ],
      "text/plain": [
       "        filename category  predict predict_c\n",
       "32575  W/616.jpg        W       32         W\n",
       "35860  Z/873.jpg        Z       35         Z\n",
       "18152  I/235.jpg        I       18         I\n",
       "19531  J/577.jpg        J       19         J\n",
       "23472  N/523.jpg        N       23         N\n",
       "...          ...      ...      ...       ...\n",
       "19902  J/910.jpg        J       19         J\n",
       "21086  L/176.jpg        L       21         L\n",
       "19327  J/393.jpg        J       19         J\n",
       "2881   2/892.jpg        2        2         2\n",
       "31833  V/849.jpg        V       31         V\n",
       "\n",
       "[3600 rows x 4 columns]"
      ]
     },
     "execution_count": 19,
     "metadata": {},
     "output_type": "execute_result"
    }
   ],
   "source": [
    "# dispaying the dataframe\n",
    "\n",
    "test_df"
   ]
  },
  {
   "cell_type": "code",
   "execution_count": 20,
   "id": "5613af76-97f5-4199-9868-e28a11fc96d9",
   "metadata": {},
   "outputs": [
    {
     "data": {
      "text/plain": [
       "W    100\n",
       "Z    100\n",
       "E    100\n",
       "5    100\n",
       "R    100\n",
       "0    100\n",
       "2    100\n",
       "K    100\n",
       "G    100\n",
       "F    100\n",
       "L    100\n",
       "8    100\n",
       "A    100\n",
       "D    100\n",
       "U    100\n",
       "V    100\n",
       "4    100\n",
       "T    100\n",
       "9    100\n",
       "O    100\n",
       "C    100\n",
       "I    100\n",
       "J    100\n",
       "N    100\n",
       "7    100\n",
       "Y    100\n",
       "1    100\n",
       "P    100\n",
       "H    100\n",
       "S    100\n",
       "6    100\n",
       "B    100\n",
       "Q    100\n",
       "3    100\n",
       "X    100\n",
       "M    100\n",
       "Name: category, dtype: int64"
      ]
     },
     "execution_count": 20,
     "metadata": {},
     "output_type": "execute_result"
    }
   ],
   "source": [
    "# Returns the number of data in each category, the predicted count\n",
    "\n",
    "test_df['category'].value_counts()"
   ]
  },
  {
   "cell_type": "code",
   "execution_count": 21,
   "id": "24b9926b-a778-4e69-8fb1-79ee2d1cd384",
   "metadata": {},
   "outputs": [
    {
     "data": {
      "text/plain": [
       "E    101\n",
       "R    101\n",
       "7    101\n",
       "6    101\n",
       "W    100\n",
       "G    100\n",
       "0    100\n",
       "2    100\n",
       "K    100\n",
       "F    100\n",
       "Z    100\n",
       "L    100\n",
       "8    100\n",
       "A    100\n",
       "D    100\n",
       "U    100\n",
       "V    100\n",
       "T    100\n",
       "9    100\n",
       "O    100\n",
       "S    100\n",
       "I    100\n",
       "Y    100\n",
       "1    100\n",
       "C    100\n",
       "H    100\n",
       "P    100\n",
       "B    100\n",
       "Q    100\n",
       "3    100\n",
       "X    100\n",
       "M    100\n",
       "N     99\n",
       "J     99\n",
       "5     99\n",
       "4     99\n",
       "Name: predict_c, dtype: int64"
      ]
     },
     "execution_count": 21,
     "metadata": {},
     "output_type": "execute_result"
    }
   ],
   "source": [
    "# Returns the number of data in each category, the actual count\n",
    "\n",
    "test_df['predict_c'].value_counts()"
   ]
  },
  {
   "cell_type": "code",
   "execution_count": 22,
   "id": "baf1fb7b-8b09-4cdd-b439-b1bc4aee5d86",
   "metadata": {},
   "outputs": [
    {
     "name": "stdout",
     "output_type": "stream",
     "text": [
      "              precision    recall  f1-score   support\n",
      "\n",
      "           0       1.00      1.00      1.00       100\n",
      "           1       1.00      1.00      1.00       100\n",
      "           2       1.00      1.00      1.00       100\n",
      "           3       1.00      1.00      1.00       100\n",
      "           4       1.00      0.99      0.99       100\n",
      "           5       1.00      0.99      0.99       100\n",
      "           6       0.99      1.00      1.00       100\n",
      "           7       0.99      1.00      1.00       100\n",
      "           8       1.00      1.00      1.00       100\n",
      "           9       1.00      1.00      1.00       100\n",
      "           A       1.00      1.00      1.00       100\n",
      "           B       1.00      1.00      1.00       100\n",
      "           C       1.00      1.00      1.00       100\n",
      "           D       1.00      1.00      1.00       100\n",
      "           E       0.99      1.00      1.00       100\n",
      "           F       1.00      1.00      1.00       100\n",
      "           G       1.00      1.00      1.00       100\n",
      "           H       1.00      1.00      1.00       100\n",
      "           I       1.00      1.00      1.00       100\n",
      "           J       1.00      0.99      0.99       100\n",
      "           K       1.00      1.00      1.00       100\n",
      "           L       1.00      1.00      1.00       100\n",
      "           M       1.00      1.00      1.00       100\n",
      "           N       1.00      0.99      0.99       100\n",
      "           O       1.00      1.00      1.00       100\n",
      "           P       1.00      1.00      1.00       100\n",
      "           Q       1.00      1.00      1.00       100\n",
      "           R       0.99      1.00      1.00       100\n",
      "           S       1.00      1.00      1.00       100\n",
      "           T       1.00      1.00      1.00       100\n",
      "           U       1.00      1.00      1.00       100\n",
      "           V       1.00      1.00      1.00       100\n",
      "           W       1.00      1.00      1.00       100\n",
      "           X       1.00      1.00      1.00       100\n",
      "           Y       1.00      1.00      1.00       100\n",
      "           Z       1.00      1.00      1.00       100\n",
      "\n",
      "    accuracy                           1.00      3600\n",
      "   macro avg       1.00      1.00      1.00      3600\n",
      "weighted avg       1.00      1.00      1.00      3600\n",
      "\n"
     ]
    }
   ],
   "source": [
    "# getting the classification report for the test data\n",
    "\n",
    "print(classification_report(y_pred=test_df['predict_c'], y_true=test_df['category']))"
   ]
  },
  {
   "cell_type": "code",
   "execution_count": 23,
   "id": "f847535b-e39e-4779-ad5a-ccc2099cbc00",
   "metadata": {},
   "outputs": [
    {
     "data": {
      "image/png": "[encoded data removed]",
      "text/plain": [
       "<Figure size 2000x2000 with 2 Axes>"
      ]
     },
     "metadata": {},
     "output_type": "display_data"
    }
   ],
   "source": [
    "# confusion matrix for test data\n",
    "\n",
    "plt.figure(figsize=(20,20))\n",
    "sns.heatmap(confusion_matrix(y_pred=test_df['predict_c'], y_true=test_df['category']), annot=True,\n",
    "            xticklabels=test_df['category'].unique(), yticklabels=test_df['category'].unique(), fmt='.1f', cmap='Greens')\n",
    "plt.show()"
   ]
  },
  {
   "cell_type": "code",
   "execution_count": 24,
   "id": "78824cea-f1ec-4d3d-8779-a7bd984cb21e",
   "metadata": {},
   "outputs": [
    {
     "name": "stdout",
     "output_type": "stream",
     "text": [
      "Saved model to disk\n"
     ]
    }
   ],
   "source": [
    "# saving the model locally\n",
    "\n",
    "model.save(\"ISL-alpha-numeric.h5\")\n",
    "print(\"Saved model to disk\")"
   ]
  },
  {
   "cell_type": "markdown",
   "id": "7c89ba5e-f5b3-4616-98a8-637f0f3e0137",
   "metadata": {},
   "source": [
    "# Summary\n",
    "* The model gives **100% accuracy and 100% precision** in the **test data.** Where the **classes 6, 7, E, R** has a **precision of 99%**\n",
    "* This Xception model with 3 layers of ANN or the fully connected layers results in best classification with a learning rate of 0.0001\n",
    "* The model was saved to the local system which sized around 849 MB."
   ]
  },
  {
   "cell_type": "markdown",
   "id": "26bc0fb5-d586-4691-938a-eb51a6e70cc0",
   "metadata": {},
   "source": [
    "#"
   ]
  }
 ],
 "metadata": {
  "kernelspec": {
   "display_name": "Python 3 (ipykernel)",
   "language": "python",
   "name": "python3"
  },
  "language_info": {
   "codemirror_mode": {
    "name": "ipython",
    "version": 3
   },
   "file_extension": ".py",
   "mimetype": "text/x-python",
   "name": "python",
   "nbconvert_exporter": "python",
   "pygments_lexer": "ipython3",
   "version": "3.9.13"
  }
 },
 "nbformat": 4,
 "nbformat_minor": 5
}
